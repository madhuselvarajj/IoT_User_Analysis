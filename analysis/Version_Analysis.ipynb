{
 "cells": [
  {
   "cell_type": "code",
   "execution_count": 6,
   "metadata": {},
   "outputs": [],
   "source": [
    "import os,csv\n",
    "import xml.etree.ElementTree as ET"
   ]
  },
  {
   "cell_type": "code",
   "execution_count": 25,
   "metadata": {},
   "outputs": [],
   "source": [
    "# site = \"stackoverflow\"\n",
    "# site = \"arduino\"\n",
    "site = \"raspberrypi\""
   ]
  },
  {
   "cell_type": "code",
   "execution_count": 3,
   "metadata": {},
   "outputs": [
    {
     "name": "stdout",
     "output_type": "stream",
     "text": [
      "['16002', '21915', '52708', '5357', '56109', '59972', '61130', '61865', '63608', '65012', '6549', '66433', '69476', '71255', '72364', '72652', '75768', '76410', '78161', '85297']\n"
     ]
    }
   ],
   "source": [
    "only563 = []\n",
    "file_name = site + \"\\only563.txt\"\n",
    "temp = []\n",
    "with open(file_name) as f:\n",
    "    temp = f.readlines()\n",
    "\n",
    "only563 = []\n",
    "for l in temp:\n",
    "    only563.append(l.strip())\n",
    "print(only563)"
   ]
  },
  {
   "cell_type": "markdown",
   "metadata": {},
   "source": [
    "load vulnerable post ids"
   ]
  },
  {
   "cell_type": "code",
   "execution_count": 4,
   "metadata": {},
   "outputs": [
    {
     "name": "stdout",
     "output_type": "stream",
     "text": [
      "309\n"
     ]
    }
   ],
   "source": [
    "vul_ids = []\n",
    "vul_ids_file_name = site + \"\\VulIds.txt\"\n",
    "temp = []\n",
    "with open(vul_ids_file_name) as f:\n",
    "    temp = f.readlines()\n",
    "\n",
    "vul_ids = []\n",
    "for l in temp:\n",
    "#     if l.strip() in only563:\n",
    "#         continue\n",
    "    vul_ids.append(l.strip())\n",
    "    \n",
    "print(len(vul_ids))"
   ]
  },
  {
   "cell_type": "markdown",
   "metadata": {},
   "source": [
    "obtain list of posts (ids) with CHANGES (more than one entry in Version_Information.csv) and without changes"
   ]
  },
  {
   "cell_type": "code",
   "execution_count": 5,
   "metadata": {},
   "outputs": [
    {
     "name": "stdout",
     "output_type": "stream",
     "text": [
      "309\n"
     ]
    }
   ],
   "source": [
    "post_versions = {} #key: post_id, value: number of versions (1 = only original)\n",
    "file_name = site +\"/Version_Information.csv\"\n",
    "with open(file_name, mode='r', encoding=\"utf8\") as f:\n",
    "    reader = csv.DictReader(f)\n",
    "    for row in reader:\n",
    "        if row['PostId'] in vul_ids:\n",
    "            if row['PostId'] in post_versions:\n",
    "                post_versions[row['PostId']]+=1\n",
    "            else:\n",
    "                 post_versions[row['PostId']]=1\n",
    "\n",
    "print(len(post_versions))"
   ]
  },
  {
   "cell_type": "code",
   "execution_count": 43,
   "metadata": {},
   "outputs": [],
   "source": [
    "outputFile = open(site+\"/postsWithRevisions.txt\",\"a\")\n",
    "for k,v in post_versions.items():\n",
    "    if v>1:\n",
    "        outputFile.write(k + \"\\n\")\n",
    "#         print(k,v)\n",
    "outputFile.close()   "
   ]
  },
  {
   "cell_type": "code",
   "execution_count": 44,
   "metadata": {},
   "outputs": [],
   "source": [
    "outputFile = open(site+\"/postsWithNoRevisions.txt\",\"a\")\n",
    "for k,v in post_versions.items():\n",
    "    if v==1:\n",
    "        outputFile.write(k +\"\\n\")\n",
    "#         print(k,v)\n",
    "outputFile.close()  "
   ]
  },
  {
   "cell_type": "markdown",
   "metadata": {},
   "source": [
    "count number of SNIPPETS that have only one post version (i.e. part of ZERO code revisions count)"
   ]
  },
  {
   "cell_type": "code",
   "execution_count": 6,
   "metadata": {},
   "outputs": [
    {
     "name": "stdout",
     "output_type": "stream",
     "text": [
      "Number of code snippets with no POST versions and therefore no CODE revisions:  161\n"
     ]
    }
   ],
   "source": [
    "#load ids with no revisions\n",
    "norev = []\n",
    "temp = []\n",
    "with open(site+\"/postsWithNoRevisions.txt\") as f:\n",
    "    temp = f.readlines()\n",
    "\n",
    "for l in temp:\n",
    "    norev.append(l.strip())\n",
    "\n",
    "\n",
    "count = 0\n",
    "allsnips = set()\n",
    "xml = ET.parse(site+\"/output-new.xml\")\n",
    "root = xml.getroot()\n",
    "errors = root[1]\n",
    "\n",
    "for i in errors:\n",
    "    key = i.get(\"id\")\n",
    "    if i.get(\"cwe\") is not None:\n",
    "        loc=i[0]\n",
    "        fileName = loc.get(\"file\")\n",
    "        allsnips.add(fileName)\n",
    "        \n",
    "        \n",
    "for i in allsnips:\n",
    "    temp=i.split(\"-\")\n",
    "    postId = temp[1].split(\".\")\n",
    "    line=postId[0]\n",
    "    if line in norev:\n",
    "        count+=1\n",
    "\n",
    "print(\"Number of code snippets with no POST versions and therefore no CODE revisions: \",count)\n",
    "\n",
    "#43+113=156 for SO"
   ]
  },
  {
   "cell_type": "code",
   "execution_count": 26,
   "metadata": {
    "scrolled": false
   },
   "outputs": [
    {
     "name": "stdout",
     "output_type": "stream",
     "text": [
      "113177\n",
      "22057\n",
      "26217-2\n",
      "26746\n",
      "59255\n",
      "24890\n",
      "24890-2\n",
      "99180\n",
      "130530-3\n",
      "81747\n",
      "43600\n",
      "130530-2\n",
      "24890-3\n",
      "57446\n",
      "124243-2\n",
      "19767\n",
      "12087\n",
      "78348\n",
      "7013\n",
      "102431\n",
      "40\n",
      "Number:  20\n"
     ]
    }
   ],
   "source": [
    "#count number of SNIPPETS that have >1 post version\n",
    "rev = []\n",
    "temp = []\n",
    "with open(site+\"/postsWithRevisions.txt\") as f:\n",
    "    temp = f.readlines()\n",
    "\n",
    "for l in temp:\n",
    "    rev.append(l.strip())\n",
    "\n",
    "\n",
    "count = 0\n",
    "allsnips = set()\n",
    "xml = ET.parse(site+\"/output-new.xml\")\n",
    "root = xml.getroot()\n",
    "errors = root[1]\n",
    "\n",
    "for i in errors:\n",
    "    key = i.get(\"id\")\n",
    "#     print(key)\n",
    "    if i.get(\"cwe\") is not None and i.get(\"cwe\") != \"563\":\n",
    "        loc=i[0]\n",
    "        fileName = loc.get(\"file\")\n",
    "        allsnips.add(fileName)\n",
    "#         print(fileName)\n",
    "\n",
    "for i in allsnips:\n",
    "    temp=i.split(\"-\")\n",
    "    postId = temp[1].split(\".\")\n",
    "    line=postId[0]\n",
    "    if line in rev:\n",
    "        temp = i.split(\".\")[0]\n",
    "#         if \".\" in temp:\n",
    "#             temp = temp.split(\".\")[0]\n",
    "        print(temp[5:])\n",
    "        count+=1\n",
    "\n",
    "print(len(allsnips)) #104+ 274 = 378 total snippets\n",
    "\n",
    "print(\"Number: \",count)\n",
    "#63+161 = 224"
   ]
  },
  {
   "cell_type": "markdown",
   "metadata": {},
   "source": [
    "determine revision type and CWE type correlation\n",
    "determine revision counts and CWE type correlation"
   ]
  },
  {
   "cell_type": "code",
   "execution_count": 27,
   "metadata": {},
   "outputs": [
    {
     "name": "stdout",
     "output_type": "stream",
     "text": [
      "{'113177': ['686'], '19767': ['398'], '24890-3': ['398'], '57446': ['398'], '7013': ['398', '758', '190', '457', '457', '457'], '78348': ['398', '398'], '81747': ['398']}\n",
      "686 1\n",
      "398 1\n",
      "398 1\n",
      "398 2\n",
      "398 1\n",
      "758 1\n",
      "190 1\n",
      "457 1\n",
      "457 1\n",
      "457 1\n",
      "398 1\n",
      "398 1\n",
      "398 1\n"
     ]
    }
   ],
   "source": [
    "posts_cwes = {} #key=snippetid, value = cwes\n",
    "posts_revisions = {} #key=snippetid, value = revision type\n",
    "posts_revcounts = {} ##key=snippetid, value = revision count\n",
    "\n",
    "file_name = site +\"/revisiontypes.csv\"\n",
    "with open(file_name, mode='r', encoding=\"utf8\") as f:\n",
    "    reader = csv.DictReader(f)\n",
    "    for row in reader:   \n",
    "        if len(row['RevisionType'])!=0:\n",
    "            posts_revisions[row['\\ufeffSnippetId']] = row['RevisionType']\n",
    "        \n",
    "        if len(row['RevCount'])!=0:\n",
    "            posts_revcounts[row['\\ufeffSnippetId']] = row['RevCount']\n",
    "\n",
    "\n",
    "# print(len(posts_revisions))\n",
    "\n",
    "xml = ET.parse(site+\"/output-new.xml\")\n",
    "root = xml.getroot()\n",
    "errors = root[1]\n",
    "\n",
    "for i in errors:\n",
    "    loc=i[0]\n",
    "    fileName = loc.get(\"file\")\n",
    "    sid = fileName[5:].split(\".\")[0] #snippet id\n",
    "    if sid  in posts_revisions:\n",
    "        if sid in posts_cwes:\n",
    "            temp = posts_cwes[sid]\n",
    "#             if i.get(\"cwe\") not in temp:\n",
    "            temp.append(i.get(\"cwe\"))\n",
    "            posts_cwes[sid] = temp\n",
    "        else:\n",
    "            temp = []\n",
    "            temp.append(i.get(\"cwe\"))\n",
    "            posts_cwes[sid] = temp\n",
    "\n",
    "print(posts_cwes)\n",
    "            \n",
    "# print(len(posts_cwes))\n",
    "\n",
    "# for k,v in posts_cwes.items():\n",
    "#     for i in v:\n",
    "#         print(i,posts_revisions[k])\n",
    "\n",
    "for k,v in posts_cwes.items():\n",
    "    for i in v:\n",
    "        print(i,posts_revcounts[k])"
   ]
  }
 ],
 "metadata": {
  "kernelspec": {
   "display_name": "Python 3",
   "language": "python",
   "name": "python3"
  },
  "language_info": {
   "codemirror_mode": {
    "name": "ipython",
    "version": 3
   },
   "file_extension": ".py",
   "mimetype": "text/x-python",
   "name": "python",
   "nbconvert_exporter": "python",
   "pygments_lexer": "ipython3",
   "version": "3.8.5"
  }
 },
 "nbformat": 4,
 "nbformat_minor": 4
}
